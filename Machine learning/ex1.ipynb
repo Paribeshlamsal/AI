{
 "cells": [
  {
   "cell_type": "code",
   "execution_count": null,
   "id": "4558d2d4",
   "metadata": {},
   "outputs": [
    {
     "name": "stdout",
     "output_type": "stream",
     "text": [
      "This is a notebook\n"
     ]
    }
   ],
   "source": [
    "print(\"This is a notebook\")"
   ]
  },
  {
   "cell_type": "code",
   "execution_count": 2,
   "id": "5a5637b2",
   "metadata": {},
   "outputs": [
    {
     "name": "stdout",
     "output_type": "stream",
     "text": [
      "Example of linear regression\n"
     ]
    }
   ],
   "source": [
    "print(\"Example of linear regression\")"
   ]
  }
 ],
 "metadata": {
  "kernelspec": {
   "display_name": "Python 3",
   "language": "python",
   "name": "python3"
  },
  "language_info": {
   "codemirror_mode": {
    "name": "ipython",
    "version": 3
   },
   "file_extension": ".py",
   "mimetype": "text/x-python",
   "name": "python",
   "nbconvert_exporter": "python",
   "pygments_lexer": "ipython3",
   "version": "3.13.2"
  }
 },
 "nbformat": 4,
 "nbformat_minor": 5
}
