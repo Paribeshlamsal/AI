{
 "cells": [
  {
   "cell_type": "code",
   "execution_count": 15,
   "id": "21fc9c08",
   "metadata": {},
   "outputs": [
    {
     "name": "stdout",
     "output_type": "stream",
     "text": [
      "Shape -  (5000, 7)\n",
      "   Avg. Area Income  Avg. Area House Age  Avg. Area Number of Rooms  \\\n",
      "0      79545.458574             5.682861                   7.009188   \n",
      "1      79248.642455             6.002900                   6.730821   \n",
      "2      61287.067179             5.865890                   8.512727   \n",
      "3      63345.240046             7.188236                   5.586729   \n",
      "4      59982.197226             5.040555                   7.839388   \n",
      "\n",
      "   Avg. Area Number of Bedrooms  Area Population         Price  \\\n",
      "0                          4.09     23086.800503  1.059034e+06   \n",
      "1                          3.09     40173.072174  1.505891e+06   \n",
      "2                          5.13     36882.159400  1.058988e+06   \n",
      "3                          3.26     34310.242831  1.260617e+06   \n",
      "4                          4.23     26354.109472  6.309435e+05   \n",
      "\n",
      "                                             Address  \n",
      "0  208 Michael Ferry Apt. 674\\nLaurabury, NE 3701...  \n",
      "1  188 Johnson Views Suite 079\\nLake Kathleen, CA...  \n",
      "2  9127 Elizabeth Stravenue\\nDanieltown, WI 06482...  \n",
      "3                          USS Barnett\\nFPO AP 44820  \n",
      "4                         USNS Raymond\\nFPO AE 09386  \n"
     ]
    }
   ],
   "source": [
    "import pandas as pd\n",
    "df=pd.read_csv(\"data/USA_Housing.csv\")\n",
    "print(\"Shape - \",df.shape)\n",
    "print(df.head())"
   ]
  },
  {
   "cell_type": "code",
   "execution_count": 16,
   "id": "3c82ac8d",
   "metadata": {},
   "outputs": [
    {
     "name": "stdout",
     "output_type": "stream",
     "text": [
      "Feature Shape -  (5000, 5)\n",
      "Target Shape -  (5000,)\n"
     ]
    },
    {
     "data": {
      "text/plain": [
       "(79545.45857431678,\n",
       " 5.682861321615587,\n",
       " 7.009188142792237,\n",
       " 4.09,\n",
       " 23086.800502686456)"
      ]
     },
     "execution_count": 16,
     "metadata": {},
     "output_type": "execute_result"
    }
   ],
   "source": [
    "X=df.drop(columns=['Price','Address']).values\n",
    "y=df['Price'].values\n",
    "\n",
    "print(\"Feature Shape - \",X.shape)\n",
    "print(\"Target Shape - \",y.shape)\n",
    "\n",
    "79545.45857431678,5.682861321615587,7.009188142792237,4.09,23086.800502686456#,1059033.5578701235"
   ]
  },
  {
   "cell_type": "code",
   "execution_count": 17,
   "id": "1c5ece46",
   "metadata": {},
   "outputs": [
    {
     "name": "stdout",
     "output_type": "stream",
     "text": [
      "Training data -  (4000, 5) (4000,)\n",
      "Validation data -  (1000, 5) (1000,)\n"
     ]
    }
   ],
   "source": [
    "from sklearn.model_selection import train_test_split\n",
    "X_train,X_val,y_train,y_val=train_test_split(X,y,test_size=0.2,random_state=42)\n",
    "\n",
    "print(\"Training data - \",X_train.shape,y_train.shape)\n",
    "print(\"Validation data - \",X_val.shape,y_val.shape)\n"
   ]
  },
  {
   "cell_type": "code",
   "execution_count": 18,
   "id": "0e5459c5",
   "metadata": {},
   "outputs": [
    {
     "name": "stdout",
     "output_type": "stream",
     "text": [
      "First Normalized Row -  [-0.19049241 -0.12817719 -0.13160635  0.12038585 -0.82761782]\n"
     ]
    }
   ],
   "source": [
    "import numpy as np\n",
    "X_mean=X_train.mean(axis=0)\n",
    "X_std=X_train.std(axis=0)\n",
    "\n",
    "X_train_norm=(X_train-X_mean)/X_std\n",
    "X_val_norm=(X_val-X_mean)/X_std\n",
    "\n",
    "print(\"First Normalized Row - \",X_train_norm[0])"
   ]
  },
  {
   "cell_type": "code",
   "execution_count": 19,
   "id": "e5a7bdaa",
   "metadata": {},
   "outputs": [],
   "source": [
    "def compute_cost(x, y, w, b):\n",
    "    m = x.shape[0]            # ✅ Use the passed dataset x\n",
    "    y_hat = x.dot(w) + b      # ✅ Predict using x\n",
    "    cost = (1/(2*m)) * np.sum((y_hat - y)**2)\n",
    "    return cost\n"
   ]
  },
  {
   "cell_type": "code",
   "execution_count": 20,
   "id": "361c8883",
   "metadata": {},
   "outputs": [],
   "source": [
    "import numpy as np\n",
    "n_features=X_train_norm.shape[1]\n",
    "w=np.zeros(n_features)\n",
    "b=0\n"
   ]
  },
  {
   "cell_type": "code",
   "execution_count": 21,
   "id": "8cc83988",
   "metadata": {},
   "outputs": [
    {
     "name": "stdout",
     "output_type": "stream",
     "text": [
      "Iteration - 0,Cost - 770379421739.04\n",
      "Iteration - 100,Cost - 6955278127.88\n",
      "Iteration - 200,Cost - 5135895332.91\n",
      "Iteration - 300,Cost - 5128318409.77\n",
      "Iteration - 400,Cost - 5128165409.72\n",
      "Trained weights -  [231740.37003054 163579.84500975 120703.41843633   3013.83033599\n",
      " 152236.33496195]\n",
      "Trained bias -  1229576.6935933642\n"
     ]
    }
   ],
   "source": [
    "learning_rate=0.03\n",
    "iterations=500\n",
    "m=X_train_norm.shape[0]\n",
    "cost_history=[]\n",
    "\n",
    "for i in range(iterations):\n",
    "    y_hat=X_train_norm.dot(w)+b\n",
    "    dw=(1/m)*X_train_norm.T.dot(y_hat-y_train)\n",
    "    db=(1/m)*np.sum(y_hat-y_train)\n",
    "\n",
    "    w=w-learning_rate*dw\n",
    "    b=b-learning_rate*db\n",
    "\n",
    "    cost=compute_cost(X_train_norm,y_train,w,b)\n",
    "    cost_history.append(cost)\n",
    "\n",
    "    if i%100==0:\n",
    "        print(f\"Iteration - {i},Cost - {cost:.2f}\")\n",
    "\n",
    "print(\"Trained weights - \",w)\n",
    "print(\"Trained bias - \",b)"
   ]
  },
  {
   "cell_type": "code",
   "execution_count": 22,
   "id": "a0803442",
   "metadata": {},
   "outputs": [
    {
     "data": {
      "image/png": "[encoded data removed]",
      "text/plain": [
       "<Figure size 640x480 with 1 Axes>"
      ]
     },
     "metadata": {},
     "output_type": "display_data"
    }
   ],
   "source": [
    "import matplotlib.pyplot as plt\n",
    "plt.plot(cost_history)\n",
    "plt.show()"
   ]
  },
  {
   "cell_type": "code",
   "execution_count": 28,
   "id": "1386439b",
   "metadata": {},
   "outputs": [
    {
     "name": "stdout",
     "output_type": "stream",
     "text": [
      "Validation MSE -  1261154.98496039\n"
     ]
    }
   ],
   "source": [
    "y_val_pred=X_val_norm.dot(w)+b\n",
    "mse=(1/(2*m))*np.mean((y_val-y_val_pred)**2)\n",
    "print(\"Validation MSE - \",mse)"
   ]
  },
  {
   "cell_type": "code",
   "execution_count": 26,
   "id": "904e14e3",
   "metadata": {},
   "outputs": [
    {
     "name": "stdout",
     "output_type": "stream",
     "text": [
      "Predicted price for new house -  1224028.6667174501\n"
     ]
    }
   ],
   "source": [
    "x_new=np.array([79545.45857431678,5.682861321615587,7.009188142792237,4.09,23086.800502686456])\n",
    "x_new_norm=(x_new-X_mean)/X_std\n",
    "y_new_pred=x_new_norm.dot(w)+b\n",
    "print(\"Predicted price for new house - \",y_new_pred)"
   ]
  }
 ],
 "metadata": {
  "kernelspec": {
   "display_name": "Python 3",
   "language": "python",
   "name": "python3"
  },
  "language_info": {
   "codemirror_mode": {
    "name": "ipython",
    "version": 3
   },
   "file_extension": ".py",
   "mimetype": "text/x-python",
   "name": "python",
   "nbconvert_exporter": "python",
   "pygments_lexer": "ipython3",
   "version": "3.13.2"
  }
 },
 "nbformat": 4,
 "nbformat_minor": 5
}
